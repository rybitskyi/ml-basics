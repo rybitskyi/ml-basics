{
 "cells": [
  {
   "cell_type": "markdown",
   "id": "0330f24f",
   "metadata": {},
   "source": [
    "# Overview\n",
    "\n",
    "https://arxiv.org/abs/1506.01186"
   ]
  },
  {
   "cell_type": "code",
   "execution_count": 65,
   "id": "431df49b",
   "metadata": {},
   "outputs": [],
   "source": [
    "import fastcore.all as fc\n",
    "import matplotlib.pyplot as plt"
   ]
  },
  {
   "cell_type": "code",
   "execution_count": 57,
   "id": "be8175e7",
   "metadata": {},
   "outputs": [],
   "source": [
    "class TriangluarCycleLearningRate():\n",
    "    \"\"\"\n",
    "    Triangluar Cycle Learning Rate Policy.\n",
    "    \"\"\"\n",
    "    \n",
    "    def __init__(self, min_LR, max_LR, step_size: int):\n",
    "        \"\"\"\n",
    "        `min_LR` - the minimum learning rate boundary\n",
    "        `max_LR` - the maximum learning rate boundary\n",
    "        `step_size` - the number of iterations in half of cycle\n",
    "        \"\"\"\n",
    "        fc.store_attr()\n",
    "    \n",
    "    def get_local_LR(self, epoch_counter: int) -> float:\n",
    "        '''\n",
    "        From paper algo:\n",
    "            local cycle = math.floor(1 + epochCounter /(2∗ stepsize ))\n",
    "            local x = math.abs(epochCounter/stepsize − 2∗cycle + 1)\n",
    "            local lr = opt .LR + (maxLR − opt.LR) ∗ math.max(0, (1−x))        \n",
    "        '''\n",
    "        \"This code varies the learning rate linearly between the minimum (min_LR) and the maximum (max_LR)\"\n",
    "        cycle = math.floor(1 + epoch_counter / (2 * self.step_size))\n",
    "        x = abs(epoch_counter / self.step_size - 2 * cycle + 1)\n",
    "        local_lr = self.min_LR + (self.max_LR - self.min_LR) * max(0, (1-x))\n",
    "        return local_lr    "
   ]
  },
  {
   "cell_type": "code",
   "execution_count": 56,
   "id": "d3161941",
   "metadata": {},
   "outputs": [],
   "source": [
    "tclr = TriangluarCycleLearningRate(0.001, 0.006, 2000)"
   ]
  },
  {
   "cell_type": "code",
   "execution_count": 74,
   "id": "8755922a",
   "metadata": {},
   "outputs": [
    {
     "data": {
      "text/plain": [
       "0.001"
      ]
     },
     "execution_count": 74,
     "metadata": {},
     "output_type": "execute_result"
    }
   ],
   "source": [
    "tclr.get_local_LR(4000)"
   ]
  },
  {
   "cell_type": "code",
   "execution_count": 83,
   "id": "a654962a",
   "metadata": {},
   "outputs": [
    {
     "data": {
      "text/plain": [
       "[<matplotlib.lines.Line2D at 0x7fa0d6df7f50>]"
      ]
     },
     "execution_count": 83,
     "metadata": {},
     "output_type": "execute_result"
    },
    {
     "data": {
      "image/png": "[encoded data removed]",
      "text/plain": [
       "<Figure size 432x288 with 1 Axes>"
      ]
     },
     "metadata": {
      "needs_background": "light"
     },
     "output_type": "display_data"
    }
   ],
   "source": [
    "x = [o for o in range(0, 9000, 100)]\n",
    "y = [tclr.get_local_LR(o) for o in x]\n",
    "plt.xlabel('Iteration #')\n",
    "plt.ylabel('Learning Rate')\n",
    "plt.plot(x,y)"
   ]
  },
  {
   "cell_type": "code",
   "execution_count": null,
   "id": "5b333894",
   "metadata": {},
   "outputs": [],
   "source": []
  },
  {
   "cell_type": "code",
   "execution_count": 5,
   "id": "fa9b2153",
   "metadata": {},
   "outputs": [],
   "source": [
    "import math"
   ]
  },
  {
   "cell_type": "code",
   "execution_count": null,
   "id": "0d8eeec7",
   "metadata": {},
   "outputs": [],
   "source": [
    "# An epoch is equal to 500 iterations and a good setting for stepsize is 2,000."
   ]
  },
  {
   "cell_type": "code",
   "execution_count": 27,
   "id": "59fad0d7",
   "metadata": {},
   "outputs": [],
   "source": [
    "epochCounter = 500\n",
    "stepsize = 2000\n",
    "minLR = 0.001\n",
    "maxLR = 0.006"
   ]
  },
  {
   "cell_type": "code",
   "execution_count": 41,
   "id": "0c904e00",
   "metadata": {},
   "outputs": [],
   "source": [
    "def _get_cycle_cnt(epoch_iter_cnt, step_size) -> int:\n",
    "    return math.floor(1 + epoch_iter_cnt / (2 * step_size))\n",
    "\n",
    "assert _get_cycle_cnt(2000, 2000) == 1\n",
    "assert _get_cycle_cnt(4000, 2000) == 2\n",
    "assert _get_cycle_cnt(9000, 2000) == 3"
   ]
  },
  {
   "cell_type": "code",
   "execution_count": 49,
   "id": "3b9b4b21",
   "metadata": {},
   "outputs": [
    {
     "data": {
      "text/plain": [
       "1.0"
      ]
     },
     "execution_count": 49,
     "metadata": {},
     "output_type": "execute_result"
    }
   ],
   "source": [
    "abs(4000/2000 - 2*2 + 1)"
   ]
  },
  {
   "cell_type": "code",
   "execution_count": 51,
   "id": "d6fb3ffb",
   "metadata": {},
   "outputs": [
    {
     "data": {
      "text/plain": [
       "0.001"
      ]
     },
     "execution_count": 51,
     "metadata": {},
     "output_type": "execute_result"
    }
   ],
   "source": [
    "0.001 + (0.006-0.001)*max(0, 1-1)"
   ]
  }
 ],
 "metadata": {
  "kernelspec": {
   "display_name": "Python 3 (ipykernel)",
   "language": "python",
   "name": "python3"
  },
  "language_info": {
   "codemirror_mode": {
    "name": "ipython",
    "version": 3
   },
   "file_extension": ".py",
   "mimetype": "text/x-python",
   "name": "python",
   "nbconvert_exporter": "python",
   "pygments_lexer": "ipython3",
   "version": "3.7.11"
  }
 },
 "nbformat": 4,
 "nbformat_minor": 5
}
