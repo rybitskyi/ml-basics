{
 "cells": [
  {
   "cell_type": "markdown",
   "id": "8319c143",
   "metadata": {},
   "source": [
    "# Overview \n",
    "\n",
    "Let's imeplement TF-IDF on numpy."
   ]
  },
  {
   "cell_type": "code",
   "execution_count": 1,
   "id": "ea5dc9dc",
   "metadata": {},
   "outputs": [],
   "source": [
    "import torch\n",
    "import timeit\n",
    "\n",
    "from sklearn.feature_extraction.text import TfidfVectorizer\n",
    "from sklearn.metrics.pairwise import cosine_similarity\n",
    "\n",
    "import torch.nn.functional as F"
   ]
  },
  {
   "cell_type": "code",
   "execution_count": 2,
   "id": "d37476a0",
   "metadata": {},
   "outputs": [],
   "source": [
    "import pandas as pd"
   ]
  },
  {
   "cell_type": "markdown",
   "id": "15c8358f",
   "metadata": {},
   "source": [
    "# Movie DataSet\n",
    "\n",
    "Let's download the list of movies from Kaggle:\n",
    "https://www.kaggle.com/datasets/rounakbanik/the-movies-dataset/versions/7?resource=download"
   ]
  },
  {
   "cell_type": "code",
   "execution_count": 3,
   "id": "2fdec4b6",
   "metadata": {},
   "outputs": [
    {
     "data": {
      "text/html": [
       "<div>\n",
       "<style scoped>\n",
       "    .dataframe tbody tr th:only-of-type {\n",
       "        vertical-align: middle;\n",
       "    }\n",
       "\n",
       "    .dataframe tbody tr th {\n",
       "        vertical-align: top;\n",
       "    }\n",
       "\n",
       "    .dataframe thead th {\n",
       "        text-align: right;\n",
       "    }\n",
       "</style>\n",
       "<table border=\"1\" class=\"dataframe\">\n",
       "  <thead>\n",
       "    <tr style=\"text-align: right;\">\n",
       "      <th></th>\n",
       "      <th>title</th>\n",
       "    </tr>\n",
       "  </thead>\n",
       "  <tbody>\n",
       "    <tr>\n",
       "      <th>0</th>\n",
       "      <td>Toy Story</td>\n",
       "    </tr>\n",
       "    <tr>\n",
       "      <th>1</th>\n",
       "      <td>Jumanji</td>\n",
       "    </tr>\n",
       "    <tr>\n",
       "      <th>2</th>\n",
       "      <td>Grumpier Old Men</td>\n",
       "    </tr>\n",
       "    <tr>\n",
       "      <th>3</th>\n",
       "      <td>Waiting to Exhale</td>\n",
       "    </tr>\n",
       "    <tr>\n",
       "      <th>4</th>\n",
       "      <td>Father of the Bride Part II</td>\n",
       "    </tr>\n",
       "  </tbody>\n",
       "</table>\n",
       "</div>"
      ],
      "text/plain": [
       "                         title\n",
       "0                    Toy Story\n",
       "1                      Jumanji\n",
       "2             Grumpier Old Men\n",
       "3            Waiting to Exhale\n",
       "4  Father of the Bride Part II"
      ]
     },
     "execution_count": 3,
     "metadata": {},
     "output_type": "execute_result"
    }
   ],
   "source": [
    "df = pd.read_csv('movies.csv', header=None, names=['title'])\n",
    "df.head()"
   ]
  },
  {
   "cell_type": "code",
   "execution_count": 4,
   "id": "458d07b7",
   "metadata": {},
   "outputs": [
    {
     "data": {
      "text/plain": [
       "True"
      ]
     },
     "execution_count": 4,
     "metadata": {},
     "output_type": "execute_result"
    }
   ],
   "source": [
    "'Jumanji'.isascii()"
   ]
  },
  {
   "cell_type": "code",
   "execution_count": 5,
   "id": "9395e742",
   "metadata": {},
   "outputs": [
    {
     "data": {
      "text/plain": [
       "array(['Toy Story', 'Jumanji', 'Grumpier Old Men', ..., 'Betrayal',\n",
       "       'Satana likuyushchiy', 'Queerama'], dtype=object)"
      ]
     },
     "execution_count": 5,
     "metadata": {},
     "output_type": "execute_result"
    }
   ],
   "source": [
    "df['title'].values"
   ]
  },
  {
   "cell_type": "code",
   "execution_count": 6,
   "id": "c79fd7b2",
   "metadata": {},
   "outputs": [
    {
     "data": {
      "text/plain": [
       "False"
      ]
     },
     "execution_count": 6,
     "metadata": {},
     "output_type": "execute_result"
    }
   ],
   "source": [
    "'Toy Story'.isnumeric()"
   ]
  },
  {
   "cell_type": "code",
   "execution_count": 85,
   "id": "fb29455e",
   "metadata": {},
   "outputs": [
    {
     "data": {
      "text/plain": [
       "1575"
      ]
     },
     "execution_count": 85,
     "metadata": {},
     "output_type": "execute_result"
    }
   ],
   "source": [
    "# Example documents\n",
    "def entity_filter(x):\n",
    "    for ch in ['!', '&', \"'\", ',', '-', '.', '0', '1', '2', '3', '4', '5', '6', '7', '8', '9', ':', '$', '(', ')', '*', '+', '/', '?', '_', '#', '@', '[', ']']:\n",
    "        if ch in x:\n",
    "            return False\n",
    "    return True\n",
    "\n",
    "documents = [v.replace(' ', '') for v in df['title'].values[:2000] if v.isascii() and entity_filter(v)]\n",
    "len(documents)\n",
    "\n",
    "# documents = [\n",
    "#     \"Toy Story\",\n",
    "#     \"Jumanji\",\n",
    "#     \"Grumpier Old Men\",\n",
    "#     \"Waiting to Exhale\",\n",
    "#     \"Father of the Bride Part II\",\n",
    "# ]"
   ]
  },
  {
   "cell_type": "code",
   "execution_count": 86,
   "id": "e12e4d50",
   "metadata": {},
   "outputs": [
    {
     "data": {
      "text/plain": [
       "['ToyStory',\n",
       " 'Jumanji',\n",
       " 'GrumpierOldMen',\n",
       " 'WaitingtoExhale',\n",
       " 'FatheroftheBridePartII',\n",
       " 'Heat',\n",
       " 'Sabrina',\n",
       " 'TomandHuck',\n",
       " 'SuddenDeath',\n",
       " 'GoldenEye']"
      ]
     },
     "execution_count": 86,
     "metadata": {},
     "output_type": "execute_result"
    }
   ],
   "source": [
    "documents[:10]"
   ]
  },
  {
   "cell_type": "markdown",
   "id": "eba651da",
   "metadata": {},
   "source": [
    "# Build TF-IDF Vectors"
   ]
  },
  {
   "cell_type": "code",
   "execution_count": 87,
   "id": "972468fd",
   "metadata": {},
   "outputs": [],
   "source": [
    "# Initialize the TF-IDF vectorizer\n",
    "# Char analyzer is used with restricted ASCII letters only and whitespace.s\n",
    "vectorizer = TfidfVectorizer(\n",
    "    ngram_range=(3,3),\n",
    "    analyzer='char',\n",
    "    stop_words='english',\n",
    ")\n",
    "\n",
    "# Fit the vectorizer on the documents and transform the documents into TF-IDF vectors\n",
    "tfidf_vectors = vectorizer.fit_transform(documents)\n",
    "\n",
    "# Convert the sparse TF-IDF vectors to dense PyTorch tensors\n",
    "tfidf_tensors = torch.tensor(tfidf_vectors.toarray())"
   ]
  },
  {
   "cell_type": "code",
   "execution_count": 88,
   "id": "e862577c",
   "metadata": {},
   "outputs": [
    {
     "name": "stdout",
     "output_type": "stream",
     "text": [
      "3599\n",
      "['aab', 'aad', 'aam', 'aan', 'aba', 'abb', 'abe', 'abi', 'abl', 'abo', 'abr', 'abs', 'aby', 'aca', 'ace', 'ach', 'ack', 'acl', 'aco', 'acr']\n"
     ]
    },
    {
     "name": "stderr",
     "output_type": "stream",
     "text": [
      "/Users/juliarybitska/opt/miniconda3/envs/p37/lib/python3.7/site-packages/sklearn/utils/deprecation.py:87: FutureWarning: Function get_feature_names is deprecated; get_feature_names is deprecated in 1.0 and will be removed in 1.2. Please use get_feature_names_out instead.\n",
      "  warnings.warn(msg, category=FutureWarning)\n"
     ]
    }
   ],
   "source": [
    "vocab = vectorizer.get_feature_names()\n",
    "print(len(vocab))\n",
    "print(vocab[:20])"
   ]
  },
  {
   "cell_type": "code",
   "execution_count": 89,
   "id": "ae361266",
   "metadata": {},
   "outputs": [
    {
     "data": {
      "text/plain": [
       "torch.Size([1575, 3599])"
      ]
     },
     "execution_count": 89,
     "metadata": {},
     "output_type": "execute_result"
    }
   ],
   "source": [
    "tfidf_tensors.shape"
   ]
  },
  {
   "cell_type": "code",
   "execution_count": 90,
   "id": "1bd0c141",
   "metadata": {},
   "outputs": [
    {
     "data": {
      "text/plain": [
       "tensor([[0., 0., 0.,  ..., 0., 0., 0.],\n",
       "        [0., 0., 0.,  ..., 0., 0., 0.],\n",
       "        [0., 0., 0.,  ..., 0., 0., 0.],\n",
       "        ...,\n",
       "        [0., 0., 0.,  ..., 0., 0., 0.],\n",
       "        [0., 0., 0.,  ..., 0., 0., 0.],\n",
       "        [0., 0., 0.,  ..., 0., 0., 0.]], dtype=torch.float64)"
      ]
     },
     "execution_count": 90,
     "metadata": {},
     "output_type": "execute_result"
    }
   ],
   "source": [
    "tfidf_tensors"
   ]
  },
  {
   "cell_type": "markdown",
   "id": "3ed02d32",
   "metadata": {},
   "source": [
    "# Query TF-IDF using cosine similarity"
   ]
  },
  {
   "cell_type": "code",
   "execution_count": 98,
   "id": "aaca2960",
   "metadata": {},
   "outputs": [],
   "source": [
    "def query(query, verbose=False):\n",
    "    query = query.replace(' ', '')\n",
    "    # Transform the query into a TF-IDF vector\n",
    "    query_vector = vectorizer.transform([query])\n",
    "\n",
    "    # Convert the sparse query vector to a dense PyTorch tensor\n",
    "    query_tensor = torch.tensor(query_vector.toarray())\n",
    "\n",
    "    # Compute the cosine similarity between the query vector and the document vectors\n",
    "    similarities = cosine_similarity(query_tensor, tfidf_tensors)\n",
    "\n",
    "    # Get the indices of the most similar documents\n",
    "    top_indices = similarities.argsort()[0][::-1]\n",
    "\n",
    "    # Print the most similar documents\n",
    "    if verbose:\n",
    "        for index in top_indices[:4]:\n",
    "            print(f\"[{similarities[0][index]}] '{documents[index]}' index: {index}\")\n",
    "\n",
    "    return (similarities[0][top_indices[0]], documents[top_indices[0]])"
   ]
  },
  {
   "cell_type": "code",
   "execution_count": 99,
   "id": "220ff880",
   "metadata": {},
   "outputs": [
    {
     "name": "stdout",
     "output_type": "stream",
     "text": [
      "33.8 ms ± 1.26 ms per loop (mean ± std. dev. of 7 runs, 10 loops each)\n"
     ]
    }
   ],
   "source": [
    "%%timeit\n",
    "query(\"toy story\")"
   ]
  },
  {
   "cell_type": "markdown",
   "id": "0918f861",
   "metadata": {},
   "source": [
    "# Latency\n",
    "\n",
    "With 30K movie_titles (30,508 records), on my local MacBook Pro 13\" 2 GHz CPU, there is 8.19ms latency per query."
   ]
  },
  {
   "cell_type": "code",
   "execution_count": 100,
   "id": "10f198f3",
   "metadata": {},
   "outputs": [
    {
     "name": "stdout",
     "output_type": "stream",
     "text": [
      "[1.0000000000000002] 'ToyStory' index: 0\n",
      "[0.3118583022867405] 'Boys' index: 554\n",
      "[0.28242702697614114] 'WestSideStory' index: 1462\n",
      "[0.2443935369039572] 'TheStoryofXinghua' index: 661\n"
     ]
    },
    {
     "data": {
      "text/plain": [
       "(1.0000000000000002, 'ToyStory')"
      ]
     },
     "execution_count": 100,
     "metadata": {},
     "output_type": "execute_result"
    }
   ],
   "source": [
    "query(\"Toy Story\", verbose=True)"
   ]
  },
  {
   "cell_type": "code",
   "execution_count": 101,
   "id": "ea4bbf6b",
   "metadata": {},
   "outputs": [
    {
     "name": "stdout",
     "output_type": "stream",
     "text": [
      "[0.38712832948148573] 'ToyStory' index: 0\n",
      "[0.2852736590361008] 'WestSideStory' index: 1462\n",
      "[0.24685682267673317] 'TheStoryofXinghua' index: 661\n",
      "[0.2396733191488809] 'Firestorm' index: 1319\n"
     ]
    },
    {
     "data": {
      "text/plain": [
       "(0.38712832948148573, 'ToyStory')"
      ]
     },
     "execution_count": 101,
     "metadata": {},
     "output_type": "execute_result"
    }
   ],
   "source": [
    "query(\"toi story\", verbose=True)"
   ]
  },
  {
   "cell_type": "code",
   "execution_count": 102,
   "id": "f294403c",
   "metadata": {},
   "outputs": [
    {
     "name": "stdout",
     "output_type": "stream",
     "text": [
      "[0.2539964924901078] 'Notorious' index: 723\n",
      "[0.23834292600419213] 'Firestorm' index: 1319\n",
      "[0.23212660280069453] 'StefanoQuantestorie' index: 639\n",
      "[0.22691129764942763] 'Histoiresextraordinaires' index: 607\n"
     ]
    },
    {
     "data": {
      "text/plain": [
       "(0.2539964924901078, 'Notorious')"
      ]
     },
     "execution_count": 102,
     "metadata": {},
     "output_type": "execute_result"
    }
   ],
   "source": [
    "query(\"toi stori\", verbose=True)"
   ]
  },
  {
   "cell_type": "code",
   "execution_count": null,
   "id": "4c9f399f",
   "metadata": {},
   "outputs": [],
   "source": []
  }
 ],
 "metadata": {
  "kernelspec": {
   "display_name": "Python 3 (ipykernel)",
   "language": "python",
   "name": "python3"
  },
  "language_info": {
   "codemirror_mode": {
    "name": "ipython",
    "version": 3
   },
   "file_extension": ".py",
   "mimetype": "text/x-python",
   "name": "python",
   "nbconvert_exporter": "python",
   "pygments_lexer": "ipython3",
   "version": "3.7.11"
  }
 },
 "nbformat": 4,
 "nbformat_minor": 5
}
