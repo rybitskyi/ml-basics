{
 "cells": [
  {
   "cell_type": "markdown",
   "id": "9572f96f",
   "metadata": {},
   "source": [
    "# Broadcasting\n",
    "\n",
    "The term **broadcasting** describes how arrays with different shapes are treated during arithmetic operations.\n",
    "\n",
    "From the [Numpy Documentation](https://docs.scipy.org/doc/numpy-1.10.0/user/basics.broadcasting.html):\n",
    "\n",
    "    The term broadcasting describes how numpy treats arrays with \n",
    "    different shapes during arithmetic operations. Subject to certain \n",
    "    constraints, the smaller array is “broadcast” across the larger \n",
    "    array so that they have compatible shapes. Broadcasting provides a \n",
    "    means of vectorizing array operations so that looping occurs in C\n",
    "    instead of Python. It does this without making needless copies of \n",
    "    data and usually leads to efficient algorithm implementations.\n",
    "    \n",
    "In addition to the efficiency of broadcasting, it allows developers to write less code, which typically leads to fewer errors.\n",
    "\n",
    "*This section was adapted from [Chapter 4](http://nbviewer.jupyter.org/github/fastai/numerical-linear-algebra/blob/master/nbs/4.%20Compressed%20Sensing%20of%20CT%20Scans%20with%20Robust%20Regression.ipynb#4.-Compressed-Sensing-of-CT-Scans-with-Robust-Regression) of the fast.ai [Computational Linear Algebra](https://github.com/fastai/numerical-linear-algebra) course.*\n",
    "\n",
    "\n",
    "## Broadcasting Rules\n",
    "\n",
    "When operating on two arrays/tensors, Numpy/PyTorch compares their shapes element-wise. It starts with the **trailing dimensions**, and works its way forward. Two dimensions are **compatible** when\n",
    "\n",
    "- they are equal, or\n",
    "- one of them is 1, in which case that dimension is broadcasted to make it the same size\n",
    "\n",
    "Arrays do not need to have the same number of dimensions. For example, if you have a `256*256*3` array of RGB values, and you want to scale each color in the image by a different value, you can multiply the image by a one-dimensional array with 3 values. Lining up the sizes of the trailing axes of these arrays according to the broadcast rules, shows that they are compatible:\n",
    "\n",
    "    Image  (3d array): 256 x 256 x 3\n",
    "    Scale  (1d array):             3\n",
    "    Result (3d array): 256 x 256 x 3\n",
    "\n",
    "The [numpy documentation](https://docs.scipy.org/doc/numpy-1.13.0/user/basics.broadcasting.html#general-broadcasting-rules) includes several examples of what dimensions can and can not be broadcast together."
   ]
  },
  {
   "cell_type": "markdown",
   "id": "f4b7b7f2",
   "metadata": {},
   "source": [
    "# Numpy Broadcasting\n",
    "\n",
    "https://numpy.org/doc/stable/user/basics.broadcasting.html"
   ]
  },
  {
   "cell_type": "code",
   "execution_count": 12,
   "id": "4fca7ebc",
   "metadata": {},
   "outputs": [],
   "source": [
    "import numpy as np\n",
    "from torch import tensor"
   ]
  },
  {
   "cell_type": "code",
   "execution_count": 18,
   "id": "d27bc52f",
   "metadata": {},
   "outputs": [
    {
     "data": {
      "text/plain": [
       "(array([1., 2., 3.]), (3,))"
      ]
     },
     "execution_count": 18,
     "metadata": {},
     "output_type": "execute_result"
    }
   ],
   "source": [
    "a = np.array([1.,2.,3])\n",
    "a, a.shape"
   ]
  },
  {
   "cell_type": "code",
   "execution_count": 20,
   "id": "48388cd7",
   "metadata": {},
   "outputs": [
    {
     "data": {
      "text/plain": [
       "(array([[10.],\n",
       "        [20.],\n",
       "        [30.]]),\n",
       " (3, 1))"
      ]
     },
     "execution_count": 20,
     "metadata": {},
     "output_type": "execute_result"
    }
   ],
   "source": [
    "b = np.array(([10.],[20.],[30.]))\n",
    "b, b.shape"
   ]
  },
  {
   "cell_type": "code",
   "execution_count": 22,
   "id": "4a01ee38",
   "metadata": {},
   "outputs": [
    {
     "data": {
      "text/plain": [
       "array([[10., 20., 30.],\n",
       "       [20., 40., 60.],\n",
       "       [30., 60., 90.]])"
      ]
     },
     "execution_count": 22,
     "metadata": {},
     "output_type": "execute_result"
    }
   ],
   "source": [
    "a * b"
   ]
  },
  {
   "cell_type": "code",
   "execution_count": 23,
   "id": "3656d461",
   "metadata": {},
   "outputs": [
    {
     "data": {
      "text/plain": [
       "array([2., 4., 6.])"
      ]
     },
     "execution_count": 23,
     "metadata": {},
     "output_type": "execute_result"
    }
   ],
   "source": [
    "a = np.array([1.0, 2.0, 3.0])\n",
    "b = np.array([2.0, 2.0, 2.0])\n",
    "a * b"
   ]
  },
  {
   "cell_type": "code",
   "execution_count": 24,
   "id": "e6139c15",
   "metadata": {},
   "outputs": [
    {
     "data": {
      "text/plain": [
       "array([2., 4., 6.])"
      ]
     },
     "execution_count": 24,
     "metadata": {},
     "output_type": "execute_result"
    }
   ],
   "source": [
    "a = np.array([1.0, 2.0, 3.0])\n",
    "b = 2.0\n",
    "a * b"
   ]
  },
  {
   "cell_type": "code",
   "execution_count": 29,
   "id": "c0cdd8ac",
   "metadata": {},
   "outputs": [
    {
     "data": {
      "text/plain": [
       "((1, 3), (2,))"
      ]
     },
     "execution_count": 29,
     "metadata": {},
     "output_type": "execute_result"
    }
   ],
   "source": [
    "a = np.array([1.0, 2.0, 3.0])\n",
    "b = np.array([2.0, 3.0])\n",
    "#a + b\n",
    "a[None,:].shape, b.shape"
   ]
  },
  {
   "cell_type": "code",
   "execution_count": 31,
   "id": "7b9c0f23",
   "metadata": {},
   "outputs": [
    {
     "data": {
      "text/plain": [
       "array([[1.],\n",
       "       [2.],\n",
       "       [3.]])"
      ]
     },
     "execution_count": 31,
     "metadata": {},
     "output_type": "execute_result"
    }
   ],
   "source": [
    "a[:,None]"
   ]
  },
  {
   "cell_type": "code",
   "execution_count": null,
   "id": "57dd0b37",
   "metadata": {},
   "outputs": [],
   "source": []
  },
  {
   "cell_type": "code",
   "execution_count": 39,
   "id": "e8f61dad",
   "metadata": {},
   "outputs": [
    {
     "data": {
      "text/plain": [
       "((5, 1), (1, 6), (6,), ())"
      ]
     },
     "execution_count": 39,
     "metadata": {},
     "output_type": "execute_result"
    }
   ],
   "source": [
    "'''\n",
    "For example, if \n",
    "a.shape is (5,1), \n",
    "b.shape is (1,6), \n",
    "c.shape is (6,) and \n",
    "d.shape is () so that d is a scalar, \n",
    "then a, b, c, and d are all broadcastable to dimension (5,6); and\n",
    "\n",
    "a acts like a (5,6) array where a[:,0] is broadcast to the other columns,\n",
    "\n",
    "b acts like a (5,6) array where b[0,:] is broadcast to the other rows,\n",
    "\n",
    "c acts like a (1,6) array and therefore like a (5,6) array where c[:] is broadcast to every row, and finally,\n",
    "\n",
    "d acts like a (5,6) array where the single value is repeated.\n",
    "\n",
    "'''\n",
    "\n",
    "a = np.array([[1],[2],[3],[4],[5]])\n",
    "b = np.array([[1,2,3,4,5,6]])\n",
    "c = np.array([1,2,3,4,5,6])\n",
    "d = np.float32(10.0)\n",
    "a.shape, b.shape, c.shape, d.shape\n",
    "\n"
   ]
  },
  {
   "cell_type": "code",
   "execution_count": 42,
   "id": "2a4a1ee8",
   "metadata": {},
   "outputs": [
    {
     "data": {
      "text/plain": [
       "((5, 1), (1, 6), (5, 6))"
      ]
     },
     "execution_count": 42,
     "metadata": {},
     "output_type": "execute_result"
    }
   ],
   "source": [
    "# -> (5, 6)\n",
    "a.shape, b.shape, (a + b).shape"
   ]
  },
  {
   "cell_type": "code",
   "execution_count": 45,
   "id": "afe00bc5",
   "metadata": {},
   "outputs": [
    {
     "data": {
      "text/plain": [
       "((1, 6), (6,), array([[ 2,  4,  6,  8, 10, 12]]))"
      ]
     },
     "execution_count": 45,
     "metadata": {},
     "output_type": "execute_result"
    }
   ],
   "source": [
    "# (1,6) (6)\n",
    "# (6,6)\n",
    "b.shape, c.shape, (b + c)"
   ]
  },
  {
   "cell_type": "code",
   "execution_count": 47,
   "id": "55b84550",
   "metadata": {},
   "outputs": [
    {
     "data": {
      "text/plain": [
       "((6,), (), (6,))"
      ]
     },
     "execution_count": 47,
     "metadata": {},
     "output_type": "execute_result"
    }
   ],
   "source": [
    "c.shape, d.shape, (c + d).shape"
   ]
  },
  {
   "cell_type": "code",
   "execution_count": null,
   "id": "35fb9e07",
   "metadata": {},
   "outputs": [],
   "source": [
    "\n",
    "A      (2d array):  5 x 4\n",
    "B      (1d array):      4\n",
    "Result (2d array):  5 x 4\n",
    "\n",
    "A      (3d array):  15 x 3 x 5\n",
    "B      (3d array):  15 x 1 x 5\n",
    "Result (3d array):  15 x 3 x 5\n",
    "\n",
    "A      (3d array):  15 x 3 x 5\n",
    "B      (2d array):       3 x 5\n",
    "Result (3d array):  15 x 3 x 5\n",
    "\n",
    "A      (3d array):  15 x 3 x 5\n",
    "B      (2d array):       3 x 1\n",
    "Result (3d array):  15 x 3 x 5"
   ]
  },
  {
   "cell_type": "code",
   "execution_count": 56,
   "id": "1b000f61",
   "metadata": {},
   "outputs": [
    {
     "data": {
      "text/plain": [
       "((5, 4), (1,), (5, 4))"
      ]
     },
     "execution_count": 56,
     "metadata": {},
     "output_type": "execute_result"
    }
   ],
   "source": [
    "# A      (2d array):  5 x 4\n",
    "# B      (1d array):      1\n",
    "# Result (2d array):  5 x 4\n",
    "A = np.random.rand(5,4)\n",
    "B = np.random.rand(1)\n",
    "\n",
    "A.shape, B.shape, (A*B).shape\n",
    "# A * B\n",
    "# A"
   ]
  },
  {
   "cell_type": "code",
   "execution_count": 57,
   "id": "615824ba",
   "metadata": {},
   "outputs": [
    {
     "data": {
      "text/plain": [
       "array([[ 1.,  2.,  3.],\n",
       "       [11., 12., 13.],\n",
       "       [21., 22., 23.],\n",
       "       [31., 32., 33.]])"
      ]
     },
     "execution_count": 57,
     "metadata": {},
     "output_type": "execute_result"
    }
   ],
   "source": [
    "a = np.array([[ 0.0,  0.0,  0.0],\n",
    "              [10.0, 10.0, 10.0],\n",
    "              [20.0, 20.0, 20.0],\n",
    "              [30.0, 30.0, 30.0]])\n",
    "b = np.array([1.0, 2.0, 3.0])\n",
    "a + b"
   ]
  },
  {
   "cell_type": "code",
   "execution_count": 58,
   "id": "a97d8e25",
   "metadata": {},
   "outputs": [
    {
     "ename": "ValueError",
     "evalue": "operands could not be broadcast together with shapes (4,3) (4,) ",
     "output_type": "error",
     "traceback": [
      "\u001b[0;31m---------------------------------------------------------------------------\u001b[0m",
      "\u001b[0;31mValueError\u001b[0m                                Traceback (most recent call last)",
      "\u001b[0;32m/var/folders/y6/9jrm4dc515sftr8wtvl4crrm0000gn/T/ipykernel_72312/2214000768.py\u001b[0m in \u001b[0;36m<module>\u001b[0;34m\u001b[0m\n\u001b[1;32m      1\u001b[0m \u001b[0mb\u001b[0m \u001b[0;34m=\u001b[0m \u001b[0mnp\u001b[0m\u001b[0;34m.\u001b[0m\u001b[0marray\u001b[0m\u001b[0;34m(\u001b[0m\u001b[0;34m[\u001b[0m\u001b[0;36m1.0\u001b[0m\u001b[0;34m,\u001b[0m \u001b[0;36m2.0\u001b[0m\u001b[0;34m,\u001b[0m \u001b[0;36m3.0\u001b[0m\u001b[0;34m,\u001b[0m \u001b[0;36m4.0\u001b[0m\u001b[0;34m]\u001b[0m\u001b[0;34m)\u001b[0m\u001b[0;34m\u001b[0m\u001b[0;34m\u001b[0m\u001b[0m\n\u001b[0;32m----> 2\u001b[0;31m \u001b[0ma\u001b[0m \u001b[0;34m+\u001b[0m \u001b[0mb\u001b[0m\u001b[0;34m\u001b[0m\u001b[0;34m\u001b[0m\u001b[0m\n\u001b[0m",
      "\u001b[0;31mValueError\u001b[0m: operands could not be broadcast together with shapes (4,3) (4,) "
     ]
    }
   ],
   "source": [
    "b = np.array([1.0, 2.0, 3.0, 4.0])\n",
    "a + b"
   ]
  },
  {
   "cell_type": "code",
   "execution_count": 59,
   "id": "a303a0f9",
   "metadata": {},
   "outputs": [
    {
     "data": {
      "text/plain": [
       "array([[ 1.,  2.,  3.],\n",
       "       [11., 12., 13.],\n",
       "       [21., 22., 23.],\n",
       "       [31., 32., 33.]])"
      ]
     },
     "execution_count": 59,
     "metadata": {},
     "output_type": "execute_result"
    }
   ],
   "source": [
    "a = np.array([0.0, 10.0, 20.0, 30.0])\n",
    "b = np.array([1.0, 2.0, 3.0])\n",
    "a[:, np.newaxis] + b"
   ]
  },
  {
   "cell_type": "markdown",
   "id": "adc80e0e",
   "metadata": {},
   "source": [
    "## Vector Quantization"
   ]
  },
  {
   "cell_type": "code",
   "execution_count": 60,
   "id": "8c56626e",
   "metadata": {},
   "outputs": [],
   "source": [
    "from numpy import array, argmin, sqrt, sum\n",
    "observation = array([111.0, 188.0])\n",
    "codes = array([[102.0, 203.0],\n",
    "               [132.0, 193.0],\n",
    "               [45.0, 155.0],\n",
    "               [57.0, 173.0]])"
   ]
  },
  {
   "cell_type": "code",
   "execution_count": 62,
   "id": "d56fca18",
   "metadata": {},
   "outputs": [
    {
     "data": {
      "text/plain": [
       "array([[ -9.,  15.],\n",
       "       [ 21.,   5.],\n",
       "       [-66., -33.],\n",
       "       [-54., -15.]])"
      ]
     },
     "execution_count": 62,
     "metadata": {},
     "output_type": "execute_result"
    }
   ],
   "source": [
    "diff = codes - observation    # the broadcast happens here\n",
    "diff\n",
    "# dist = sqrt(sum(diff**2,axis=-1))\n",
    "# argmin(dist)"
   ]
  },
  {
   "cell_type": "code",
   "execution_count": 67,
   "id": "e0638765",
   "metadata": {},
   "outputs": [
    {
     "data": {
      "text/plain": [
       "array([[  81.,  225.],\n",
       "       [ 441.,   25.],\n",
       "       [4356., 1089.],\n",
       "       [2916.,  225.]])"
      ]
     },
     "execution_count": 67,
     "metadata": {},
     "output_type": "execute_result"
    }
   ],
   "source": [
    "diff**2"
   ]
  },
  {
   "cell_type": "code",
   "execution_count": 66,
   "id": "5ebcbb7d",
   "metadata": {},
   "outputs": [
    {
     "data": {
      "text/plain": [
       "array([ 306.,  466., 5445., 3141.])"
      ]
     },
     "execution_count": 66,
     "metadata": {},
     "output_type": "execute_result"
    }
   ],
   "source": [
    "sum(diff**2,axis=-1)"
   ]
  },
  {
   "cell_type": "code",
   "execution_count": 68,
   "id": "06d6e029",
   "metadata": {},
   "outputs": [
    {
     "data": {
      "text/plain": [
       "array([17.49285568, 21.58703314, 73.79024326, 56.04462508])"
      ]
     },
     "execution_count": 68,
     "metadata": {},
     "output_type": "execute_result"
    }
   ],
   "source": [
    "sqrt(sum(diff**2, axis=-1))"
   ]
  },
  {
   "cell_type": "code",
   "execution_count": 69,
   "id": "eab186e6",
   "metadata": {},
   "outputs": [
    {
     "data": {
      "text/plain": [
       "0"
      ]
     },
     "execution_count": 69,
     "metadata": {},
     "output_type": "execute_result"
    }
   ],
   "source": [
    "argmin(sqrt(sum(diff**2, axis=-1)))"
   ]
  },
  {
   "cell_type": "code",
   "execution_count": null,
   "id": "c9f11ac1",
   "metadata": {},
   "outputs": [],
   "source": []
  },
  {
   "cell_type": "markdown",
   "id": "c0b5274a",
   "metadata": {},
   "source": [
    "# Pytorch Broadcasting semantics\n",
    "\n",
    "https://pytorch.org/docs/stable/notes/broadcasting.html"
   ]
  },
  {
   "cell_type": "code",
   "execution_count": 3,
   "id": "de7e0c0f",
   "metadata": {},
   "outputs": [],
   "source": [
    "import torch"
   ]
  },
  {
   "cell_type": "code",
   "execution_count": null,
   "id": "81ac3095",
   "metadata": {},
   "outputs": [],
   "source": []
  }
 ],
 "metadata": {
  "kernelspec": {
   "display_name": "Python 3 (ipykernel)",
   "language": "python",
   "name": "python3"
  },
  "language_info": {
   "codemirror_mode": {
    "name": "ipython",
    "version": 3
   },
   "file_extension": ".py",
   "mimetype": "text/x-python",
   "name": "python",
   "nbconvert_exporter": "python",
   "pygments_lexer": "ipython3",
   "version": "3.7.11"
  }
 },
 "nbformat": 4,
 "nbformat_minor": 5
}
